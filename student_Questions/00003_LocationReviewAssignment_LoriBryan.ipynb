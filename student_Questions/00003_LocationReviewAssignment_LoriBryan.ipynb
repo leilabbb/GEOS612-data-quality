{
 "cells": [
  {
   "cell_type": "markdown",
   "metadata": {},
   "source": [
    "## Data Validation Assignment.\n",
    "\n",
    "\n",
    "<span style='color:blue' size=20 > **Instructions:** </span> \n",
    "\n",
    "- Rename this notebook to include your name.\n",
    "- Use one of the NetCDF files to complete Module 3 Lab assignment. \n",
    "    - Each NetCDF file name starts with a deployment number.\n",
    "    - In the example notebook I have used '**deployment0004**_GP03FLMB-R*.nc. \n",
    "    - Do not use Deployment 4 for you assignment.\n",
    "    - Follow the outline below to reproduce the Sensor Location Review Process."
   ]
  },
  {
   "cell_type": "markdown",
   "metadata": {},
   "source": [
    "### Outline.\n",
    "\n",
    "- [Extract the Deployment Number from the Data File.](#1)\n",
    "- [Validate the Deployment Number Against the Data File Name.](#2)\n",
    "- [Extract the Pressure Array from The Data File.](#3)\n",
    "- [Check for Erroneous Data in the Pressure Array.](#4)\n",
    "- [Calculate the Pressure Datasets Basic Statistics.](#5)\n",
    "- [Compare Pressure to the Deployment Depth.](#6)\n",
    "- [Calculate the Lon/Lat Difference in km.](#7)\n",
    "- [Summarize Results.](#8)\n",
    "- [Report on the Sensor Location Review.](#9)"
   ]
  },
  {
   "cell_type": "markdown",
   "metadata": {},
   "source": [
    "Python Packages"
   ]
  },
  {
   "cell_type": "code",
   "execution_count": 1,
   "metadata": {},
   "outputs": [
    {
     "name": "stderr",
     "output_type": "stream",
     "text": [
      "c:\\programData\\Anaconda3\\lib\\site-packages\\xarray\\core\\merge.py:10: FutureWarning: The Panel class is removed from pandas. Accessing it from the top-level namespace will also be removed in the next version\n",
      "  PANDAS_TYPES = (pd.Series, pd.DataFrame, pd.Panel)\n"
     ]
    }
   ],
   "source": [
    "# import python packages\n",
    "import xarray as xr\n",
    "import pandas as pd\n",
    "import numpy as np\n",
    "from geopy.distance import geodesic"
   ]
  },
  {
   "cell_type": "markdown",
   "metadata": {},
   "source": [
    "Load Data File"
   ]
  },
  {
   "cell_type": "code",
   "execution_count": 4,
   "metadata": {},
   "outputs": [
    {
     "name": "stdout",
     "output_type": "stream",
     "text": [
      "H:\\GEOS689\\Lab3\n",
      " Volume in drive H is Homes\n",
      " Volume Serial Number is 8000-0445\n",
      "\n",
      " Directory of H:\\GEOS689\\Lab3\n",
      "\n",
      "06/25/2020  03:44 PM    <DIR>          .\n",
      "06/24/2020  12:16 PM    <DIR>          ..\n",
      "06/25/2020  03:44 PM    <DIR>          .ipynb_checkpoints\n",
      "06/25/2020  03:44 PM           206,233 00003_DataEvaluation_TimeCoverage.ipynb\n",
      "06/25/2020  03:35 PM            38,581 00003_LocationReviewAssignment_LoriBryan.ipynb\n",
      "06/25/2020  02:02 PM            28,646 00003_TimeCoverageAssignment_LoriBryan-Copy1.ipynb\n",
      "06/19/2020  04:22 PM             3,457 00003_TimeCoverageAssignment_YourName.ipynb\n",
      "06/19/2020  04:21 PM         2,105,359 deployment0001_GP03FLMB-RIM01-02-CTDMOG060-recovered_inst-ctdmo_ghqr_instrument_recovered_20130724T064501-20140617T234501.nc\n",
      "06/25/2020  03:41 PM         2,487,937 deployment0003_GP03FLMB-RIM01-02-CTDMOG060-recovered_inst-ctdmo_ghqr_instrument_recovered_20150608T213001-20160703T183001.nc\n",
      "06/19/2020  04:21 PM         2,404,578 deployment0005_GP03FLMB-RIM01-02-CTDMOG060-recovered_inst-ctdmo_ghqr_instrument_recovered_20170714T230001-20180725T170001.nc\n",
      "06/19/2020  04:21 PM         2,731,057 deployment0006_GP03FLMB-RIM01-02-CTDMOG060-recovered_inst-ctdmo_ghqr_instrument_recovered_20180724T231501-20190927T234501.nc\n",
      "06/19/2020  04:21 PM               790 GP03FLMB-RIM01-02-CTDMOG060_cruise_info.csv\n",
      "               9 File(s)     10,006,638 bytes\n",
      "               3 Dir(s)   1,619,111,936 bytes free\n"
     ]
    },
    {
     "data": {
      "text/plain": [
       "<xarray.Dataset>\n",
       "Dimensions:                                  (obs: 37525)\n",
       "Coordinates:\n",
       "  * obs                                      (obs) int32 0 1 2 ... 37523 37524\n",
       "Data variables:\n",
       "    practical_salinity                       (obs) float64 ...\n",
       "    ctd_time                                 (obs) datetime64[ns] ...\n",
       "    density_qc_executed                      (obs) uint8 ...\n",
       "    driver_timestamp                         (obs) datetime64[ns] ...\n",
       "    id                                       (obs) |S36 ...\n",
       "    conductivity                             (obs) float64 ...\n",
       "    ctdmo_seawater_pressure_qc_executed      (obs) uint8 ...\n",
       "    practical_salinity_qc_results            (obs) uint8 ...\n",
       "    temperature                              (obs) float64 ...\n",
       "    ctdmo_seawater_conductivity_qc_results   (obs) uint8 ...\n",
       "    density                                  (obs) float64 ...\n",
       "    ctdmo_seawater_conductivity_qc_executed  (obs) uint8 ...\n",
       "    provenance                               (obs) |S36 ...\n",
       "    ctdmo_seawater_pressure_qc_results       (obs) uint8 ...\n",
       "    ctdmo_seawater_temperature               (obs) float64 ...\n",
       "    pressure_temp                            (obs) float64 ...\n",
       "    internal_timestamp                       (obs) datetime64[ns] ...\n",
       "    serial_number                            (obs) object ...\n",
       "    ctdmo_seawater_conductivity              (obs) float64 ...\n",
       "    ctdmo_seawater_temperature_qc_executed   (obs) uint8 ...\n",
       "    ingestion_timestamp                      (obs) datetime64[ns] ...\n",
       "    port_timestamp                           (obs) datetime64[ns] ...\n",
       "    pressure                                 (obs) float64 ...\n",
       "    ctdmo_seawater_temperature_qc_results    (obs) uint8 ...\n",
       "    deployment                               (obs) int32 ...\n",
       "    ctdmo_seawater_pressure                  (obs) float64 ...\n",
       "    preferred_timestamp                      (obs) object ...\n",
       "    practical_salinity_qc_executed           (obs) uint8 ...\n",
       "    inductive_id                             (obs) float32 ...\n",
       "    density_qc_results                       (obs) uint8 ...\n",
       "    time                                     (obs) datetime64[ns] ...\n",
       "Attributes:\n",
       "    node:                               RIM01\n",
       "    comment:                            \n",
       "    publisher_email:                    \n",
       "    sourceUrl:                          http://oceanobservatories.org/\n",
       "    collection_method:                  recovered_inst\n",
       "    stream:                             ctdmo_ghqr_instrument_recovered\n",
       "    featureType:                        point\n",
       "    creator_email:                      \n",
       "    publisher_name:                     Ocean Observatories Initiative\n",
       "    date_modified:                      2020-05-28T14:41:22.205885\n",
       "    keywords:                           \n",
       "    cdm_data_type:                      Point\n",
       "    references:                         More information can be found at http...\n",
       "    Metadata_Conventions:               Unidata Dataset Discovery v1.0\n",
       "    date_created:                       2020-05-28T14:41:22.205873\n",
       "    id:                                 GP03FLMB-RIM01-02-CTDMOG060-recovered...\n",
       "    requestUUID:                        8fcb1de5-87e9-4de8-9d96-0a8c326bdfa6\n",
       "    contributor_role:                   \n",
       "    summary:                            Dataset Generated by Stream Engine fr...\n",
       "    keywords_vocabulary:                \n",
       "    institution:                        Ocean Observatories Initiative\n",
       "    naming_authority:                   org.oceanobservatories\n",
       "    feature_Type:                       point\n",
       "    infoUrl:                            http://oceanobservatories.org/\n",
       "    license:                            \n",
       "    contributor_name:                   \n",
       "    uuid:                               8fcb1de5-87e9-4de8-9d96-0a8c326bdfa6\n",
       "    creator_name:                       Ocean Observatories Initiative\n",
       "    title:                              Data produced by Stream Engine versio...\n",
       "    sensor:                             02-CTDMOG060\n",
       "    standard_name_vocabulary:           NetCDF Climate and Forecast (CF) Meta...\n",
       "    acknowledgement:                    \n",
       "    Conventions:                        CF-1.6\n",
       "    project:                            Ocean Observatories Initiative\n",
       "    source:                             GP03FLMB-RIM01-02-CTDMOG060-recovered...\n",
       "    publisher_url:                      http://oceanobservatories.org/\n",
       "    creator_url:                        http://oceanobservatories.org/\n",
       "    nodc_template_version:              NODC_NetCDF_TimeSeries_Orthogonal_Tem...\n",
       "    subsite:                            GP03FLMB\n",
       "    processing_level:                   L2\n",
       "    history:                            2020-05-28T14:41:22.205746 generated ...\n",
       "    Manufacturer:                       Sea-Bird Electronics\n",
       "    ModelNumber:                        SBE 37-IM\n",
       "    SerialNumber:                       37-12638\n",
       "    Description:                        CTD Mooring (Inductive): CTDMO Series G\n",
       "    FirmwareVersion:                    Not specified.\n",
       "    SoftwareVersion:                    Not specified.\n",
       "    AssetUniqueID:                      CGINS-CTDMOG-12638\n",
       "    Notes:                              Not specified.\n",
       "    Owner:                              Woods Hole Oceanographic Institution\n",
       "    RemoteResources:                    []\n",
       "    ShelfLifeExpirationDate:            Not specified.\n",
       "    Mobile:                             False\n",
       "    AssetManagementRecordLastModified:  2020-04-24T16:39:50.800000\n",
       "    time_coverage_start:                2015-06-08T21:30:01\n",
       "    time_coverage_end:                  2016-07-03T18:30:01\n",
       "    time_coverage_resolution:           P899.98S\n",
       "    geospatial_lat_min:                 50.33033\n",
       "    geospatial_lat_max:                 50.33033\n",
       "    geospatial_lat_units:               degrees_north\n",
       "    geospatial_lat_resolution:          0.1\n",
       "    geospatial_lon_min:                 -144.39833\n",
       "    geospatial_lon_max:                 -144.39833\n",
       "    geospatial_lon_units:               degrees_east\n",
       "    geospatial_lon_resolution:          0.1\n",
       "    geospatial_vertical_units:          meters\n",
       "    geospatial_vertical_resolution:     0.1\n",
       "    geospatial_vertical_positive:       down\n",
       "    lat:                                50.33033\n",
       "    lon:                                -144.39833"
      ]
     },
     "execution_count": 4,
     "metadata": {},
     "output_type": "execute_result"
    }
   ],
   "source": [
    "# use the path to your data file to change your directory\n",
    "%cd H:\\GEOS689\\Lab3\n",
    "# list the files of the current directory to get the name of the file you want to use.\n",
    "%ls\n",
    "\n",
    "# load the data\n",
    "file_content = xr.open_dataset('deployment0003_GP03FLMB-RIM01-02-CTDMOG060-recovered_inst-ctdmo_ghqr_instrument_recovered_20150608T213001-20160703T183001.nc')\n",
    "\n",
    "# print content\n",
    "file_content"
   ]
  },
  {
   "cell_type": "markdown",
   "metadata": {},
   "source": [
    "<a id=\"1\"></a>\n",
    "Extract the Deployment Number from the Data File."
   ]
  },
  {
   "cell_type": "code",
   "execution_count": 5,
   "metadata": {},
   "outputs": [
    {
     "data": {
      "text/plain": [
       "3"
      ]
     },
     "execution_count": 5,
     "metadata": {},
     "output_type": "execute_result"
    }
   ],
   "source": [
    "# extract the deployment number\n",
    "deployment_num = np.unique(file_content['deployment'])[0]\n",
    "deployment_num"
   ]
  },
  {
   "cell_type": "markdown",
   "metadata": {},
   "source": [
    "<a id=\"2\"></a>\n",
    "Validate the Deployment Number Against the Data File Name."
   ]
  },
  {
   "cell_type": "markdown",
   "metadata": {},
   "source": [
    "Deployment number is supposed to match the number in the filename.  I chose the deployment0006 file and it matches the output [6]"
   ]
  },
  {
   "cell_type": "markdown",
   "metadata": {},
   "source": [
    "Load Deployment File."
   ]
  },
  {
   "cell_type": "code",
   "execution_count": 6,
   "metadata": {},
   "outputs": [
    {
     "data": {
      "text/html": [
       "<div>\n",
       "<style scoped>\n",
       "    .dataframe tbody tr th:only-of-type {\n",
       "        vertical-align: middle;\n",
       "    }\n",
       "\n",
       "    .dataframe tbody tr th {\n",
       "        vertical-align: top;\n",
       "    }\n",
       "\n",
       "    .dataframe thead th {\n",
       "        text-align: right;\n",
       "    }\n",
       "</style>\n",
       "<table border=\"1\" class=\"dataframe\">\n",
       "  <thead>\n",
       "    <tr style=\"text-align: right;\">\n",
       "      <th></th>\n",
       "      <th>Deployment</th>\n",
       "      <th>Cruise</th>\n",
       "      <th>Start Date</th>\n",
       "      <th>Stop Date</th>\n",
       "      <th>Mooring Asset</th>\n",
       "      <th>Node Asset</th>\n",
       "      <th>Sensor Asset</th>\n",
       "      <th>Latitude</th>\n",
       "      <th>Longitude</th>\n",
       "      <th>Deployment Depth</th>\n",
       "      <th>Water Depth</th>\n",
       "    </tr>\n",
       "  </thead>\n",
       "  <tbody>\n",
       "    <tr>\n",
       "      <td>0</td>\n",
       "      <td>1</td>\n",
       "      <td>MV-1309</td>\n",
       "      <td>2013-07-24</td>\n",
       "      <td>2014-06-18</td>\n",
       "      <td>CGMGP-03FLMB-00001</td>\n",
       "      <td>NaN</td>\n",
       "      <td>CGINS-CTDMOG-10255</td>\n",
       "      <td>50.3317</td>\n",
       "      <td>-144.401</td>\n",
       "      <td>30.0</td>\n",
       "      <td>4145</td>\n",
       "    </tr>\n",
       "    <tr>\n",
       "      <td>1</td>\n",
       "      <td>2</td>\n",
       "      <td>MV-1404</td>\n",
       "      <td>2014-06-20</td>\n",
       "      <td>2015-06-07</td>\n",
       "      <td>CGMGP-03FLMB-00002</td>\n",
       "      <td>NaN</td>\n",
       "      <td>CGINS-CTDMOG-11646</td>\n",
       "      <td>50.3313</td>\n",
       "      <td>-144.398</td>\n",
       "      <td>31.0</td>\n",
       "      <td>4145</td>\n",
       "    </tr>\n",
       "    <tr>\n",
       "      <td>2</td>\n",
       "      <td>3</td>\n",
       "      <td>TN-323</td>\n",
       "      <td>2015-06-08</td>\n",
       "      <td>2016-07-03</td>\n",
       "      <td>CGMGP-03FLMB-00003</td>\n",
       "      <td>NaN</td>\n",
       "      <td>CGINS-CTDMOG-12638</td>\n",
       "      <td>50.3303</td>\n",
       "      <td>-144.398</td>\n",
       "      <td>47.0</td>\n",
       "      <td>4145</td>\n",
       "    </tr>\n",
       "    <tr>\n",
       "      <td>3</td>\n",
       "      <td>4</td>\n",
       "      <td>RB-16-05</td>\n",
       "      <td>2016-07-04</td>\n",
       "      <td>2017-07-17</td>\n",
       "      <td>CGMGP-03FLMB-00004</td>\n",
       "      <td>NaN</td>\n",
       "      <td>CGINS-CTDMOG-11638</td>\n",
       "      <td>50.3293</td>\n",
       "      <td>-144.398</td>\n",
       "      <td>NaN</td>\n",
       "      <td>4146</td>\n",
       "    </tr>\n",
       "    <tr>\n",
       "      <td>4</td>\n",
       "      <td>5</td>\n",
       "      <td>SR17-10</td>\n",
       "      <td>2017-07-14</td>\n",
       "      <td>2018-07-25</td>\n",
       "      <td>CGMGP-03FLMB-00005</td>\n",
       "      <td>NaN</td>\n",
       "      <td>CGINS-CTDMOG-13422</td>\n",
       "      <td>50.3777</td>\n",
       "      <td>-144.515</td>\n",
       "      <td>NaN</td>\n",
       "      <td>4169</td>\n",
       "    </tr>\n",
       "    <tr>\n",
       "      <td>5</td>\n",
       "      <td>6</td>\n",
       "      <td>SR1811</td>\n",
       "      <td>2018-07-24</td>\n",
       "      <td>2019-09-27</td>\n",
       "      <td>CGMGP-03FLMB-00006</td>\n",
       "      <td>NaN</td>\n",
       "      <td>CGINS-CTDMOG-10225</td>\n",
       "      <td>50.3295</td>\n",
       "      <td>-144.398</td>\n",
       "      <td>NaN</td>\n",
       "      <td>4145</td>\n",
       "    </tr>\n",
       "    <tr>\n",
       "      <td>6</td>\n",
       "      <td>7</td>\n",
       "      <td>SKQ201920S</td>\n",
       "      <td>2019-09-27</td>\n",
       "      <td>NaN</td>\n",
       "      <td>CGMGP-03FLMB-00007</td>\n",
       "      <td>NaN</td>\n",
       "      <td>CGINS-CTDMOG-10218</td>\n",
       "      <td>50.3755</td>\n",
       "      <td>-144.514</td>\n",
       "      <td>NaN</td>\n",
       "      <td>4176</td>\n",
       "    </tr>\n",
       "  </tbody>\n",
       "</table>\n",
       "</div>"
      ],
      "text/plain": [
       "   Deployment      Cruise  Start Date   Stop Date       Mooring Asset  \\\n",
       "0           1     MV-1309  2013-07-24  2014-06-18  CGMGP-03FLMB-00001   \n",
       "1           2     MV-1404  2014-06-20  2015-06-07  CGMGP-03FLMB-00002   \n",
       "2           3      TN-323  2015-06-08  2016-07-03  CGMGP-03FLMB-00003   \n",
       "3           4    RB-16-05  2016-07-04  2017-07-17  CGMGP-03FLMB-00004   \n",
       "4           5     SR17-10  2017-07-14  2018-07-25  CGMGP-03FLMB-00005   \n",
       "5           6      SR1811  2018-07-24  2019-09-27  CGMGP-03FLMB-00006   \n",
       "6           7  SKQ201920S  2019-09-27         NaN  CGMGP-03FLMB-00007   \n",
       "\n",
       "   Node Asset        Sensor Asset  Latitude  Longitude  Deployment Depth  \\\n",
       "0         NaN  CGINS-CTDMOG-10255   50.3317   -144.401              30.0   \n",
       "1         NaN  CGINS-CTDMOG-11646   50.3313   -144.398              31.0   \n",
       "2         NaN  CGINS-CTDMOG-12638   50.3303   -144.398              47.0   \n",
       "3         NaN  CGINS-CTDMOG-11638   50.3293   -144.398               NaN   \n",
       "4         NaN  CGINS-CTDMOG-13422   50.3777   -144.515               NaN   \n",
       "5         NaN  CGINS-CTDMOG-10225   50.3295   -144.398               NaN   \n",
       "6         NaN  CGINS-CTDMOG-10218   50.3755   -144.514               NaN   \n",
       "\n",
       "   Water Depth  \n",
       "0         4145  \n",
       "1         4145  \n",
       "2         4145  \n",
       "3         4146  \n",
       "4         4169  \n",
       "5         4145  \n",
       "6         4176  "
      ]
     },
     "execution_count": 6,
     "metadata": {},
     "output_type": "execute_result"
    }
   ],
   "source": [
    "# use the path to the deployment file to change your directory. (the .csv file)\n",
    "# Load Data\n",
    "deployment_file = pd.read_csv('GP03FLMB-RIM01-02-CTDMOG060_cruise_info.csv')\n",
    "\n",
    "# Print content\n",
    "deployment_file"
   ]
  },
  {
   "cell_type": "code",
   "execution_count": 8,
   "metadata": {},
   "outputs": [
    {
     "data": {
      "text/html": [
       "<div>\n",
       "<style scoped>\n",
       "    .dataframe tbody tr th:only-of-type {\n",
       "        vertical-align: middle;\n",
       "    }\n",
       "\n",
       "    .dataframe tbody tr th {\n",
       "        vertical-align: top;\n",
       "    }\n",
       "\n",
       "    .dataframe thead th {\n",
       "        text-align: right;\n",
       "    }\n",
       "</style>\n",
       "<table border=\"1\" class=\"dataframe\">\n",
       "  <thead>\n",
       "    <tr style=\"text-align: right;\">\n",
       "      <th></th>\n",
       "      <th>Deployment</th>\n",
       "      <th>Cruise</th>\n",
       "      <th>Start Date</th>\n",
       "      <th>Stop Date</th>\n",
       "      <th>Mooring Asset</th>\n",
       "      <th>Node Asset</th>\n",
       "      <th>Sensor Asset</th>\n",
       "      <th>Latitude</th>\n",
       "      <th>Longitude</th>\n",
       "      <th>Deployment Depth</th>\n",
       "      <th>Water Depth</th>\n",
       "    </tr>\n",
       "  </thead>\n",
       "  <tbody>\n",
       "    <tr>\n",
       "      <td>2</td>\n",
       "      <td>3</td>\n",
       "      <td>TN-323</td>\n",
       "      <td>2015-06-08</td>\n",
       "      <td>2016-07-03</td>\n",
       "      <td>CGMGP-03FLMB-00003</td>\n",
       "      <td>NaN</td>\n",
       "      <td>CGINS-CTDMOG-12638</td>\n",
       "      <td>50.3303</td>\n",
       "      <td>-144.398</td>\n",
       "      <td>47.0</td>\n",
       "      <td>4145</td>\n",
       "    </tr>\n",
       "  </tbody>\n",
       "</table>\n",
       "</div>"
      ],
      "text/plain": [
       "   Deployment  Cruise  Start Date   Stop Date       Mooring Asset  Node Asset  \\\n",
       "2           3  TN-323  2015-06-08  2016-07-03  CGMGP-03FLMB-00003         NaN   \n",
       "\n",
       "         Sensor Asset  Latitude  Longitude  Deployment Depth  Water Depth  \n",
       "2  CGINS-CTDMOG-12638   50.3303   -144.398              47.0         4145  "
      ]
     },
     "execution_count": 8,
     "metadata": {},
     "output_type": "execute_result"
    }
   ],
   "source": [
    "# Extract the deployment information using the deployment column above.\n",
    "# Extract the deployment_num variable defined in the previous cell.\n",
    "deployment_x = deployment_file[deployment_file['Deployment'] == deployment_num]\n",
    "\n",
    "# Print row\n",
    "deployment_x"
   ]
  },
  {
   "cell_type": "markdown",
   "metadata": {},
   "source": [
    "<a id=\"3\"></a>\n",
    "Extract the Pressure Array from The Data File."
   ]
  },
  {
   "cell_type": "code",
   "execution_count": 9,
   "metadata": {},
   "outputs": [
    {
     "name": "stdout",
     "output_type": "stream",
     "text": [
      "['ctdmo_seawater_pressure_qc_executed', 'ctdmo_seawater_pressure_qc_results', 'pressure_temp', 'pressure', 'ctdmo_seawater_pressure']\n"
     ]
    }
   ],
   "source": [
    "# Determine what variable is used to check the pressure array?\n",
    "# Do this by listing the variable names.\n",
    "list_variables = file_content.variables.keys()\n",
    "\n",
    "# Selct the variables using the keywork 'pressure'.\n",
    "pressure_name = [x for x in tuple(list_variables) if 'pressure' in x]\n",
    "print(pressure_name)"
   ]
  },
  {
   "cell_type": "code",
   "execution_count": 10,
   "metadata": {},
   "outputs": [
    {
     "name": "stdout",
     "output_type": "stream",
     "text": [
      "Fail: ctdmo_seawater_pressure_qc_executed\n",
      "Fail: ctdmo_seawater_pressure_qc_results\n",
      "Pass: ctdmo_seawater_pressure\n"
     ]
    }
   ],
   "source": [
    "# Determine what pressure variable has the science unit dbar?\n",
    "# Accomplish this by selecting the variable with the unit dbar.\n",
    "for x in pressure_name:\n",
    "    try: \n",
    "        x_unit = file_content[x].attrs['units']\n",
    "        if x_unit == 'dbar':\n",
    "            print('Pass:', x)\n",
    "    except KeyError:\n",
    "        print('Fail:', x)"
   ]
  },
  {
   "cell_type": "code",
   "execution_count": 11,
   "metadata": {},
   "outputs": [
    {
     "data": {
      "text/plain": [
       "odict_keys(['comment', 'long_name', 'coordinates', 'data_product_identifier', 'standard_name', 'units', 'ancillary_variables'])"
      ]
     },
     "execution_count": 11,
     "metadata": {},
     "output_type": "execute_result"
    }
   ],
   "source": [
    "# the answer is ctdmo_seawater_pressure\n",
    "\n",
    "# Get the pressure array by using the name of the variable that passed the unit test above.\n",
    "pressure = file_content['ctdmo_seawater_pressure']\n",
    "\n",
    "# Get and print the pressure attribute names.\n",
    "pressure.attrs.keys()\n",
    "\n",
    "# _FillValues is missing here.  \n",
    "# I tried to delete the deployment file, re-download it and start over.  Same error.\n",
    "# I tried using Deployment 0006 same issue."
   ]
  },
  {
   "cell_type": "code",
   "execution_count": 12,
   "metadata": {},
   "outputs": [
    {
     "data": {
      "text/html": [
       "<div>\n",
       "<style scoped>\n",
       "    .dataframe tbody tr th:only-of-type {\n",
       "        vertical-align: middle;\n",
       "    }\n",
       "\n",
       "    .dataframe tbody tr th {\n",
       "        vertical-align: top;\n",
       "    }\n",
       "\n",
       "    .dataframe thead th {\n",
       "        text-align: right;\n",
       "    }\n",
       "</style>\n",
       "<table border=\"1\" class=\"dataframe\">\n",
       "  <thead>\n",
       "    <tr style=\"text-align: right;\">\n",
       "      <th></th>\n",
       "      <th>Pressure</th>\n",
       "    </tr>\n",
       "  </thead>\n",
       "  <tbody>\n",
       "    <tr>\n",
       "      <td>Long Name</td>\n",
       "      <td>Seawater Pressure</td>\n",
       "    </tr>\n",
       "    <tr>\n",
       "      <td>Standard Name</td>\n",
       "      <td>sea_water_pressure</td>\n",
       "    </tr>\n",
       "    <tr>\n",
       "      <td>Comment</td>\n",
       "      <td>Seawater Pressure refers to the pressure exerted on a sensor in situ by the weight of the column of seawater above it. It is calculated by subtracting one standard atmosphere from the absolute pressure at the sensor to remove the weight of the atmosphere on top of the water column. The pressure at a sensor in situ provides a metric of the depth of that sensor.</td>\n",
       "    </tr>\n",
       "    <tr>\n",
       "      <td>Coordinates</td>\n",
       "      <td>time lat lon pressure</td>\n",
       "    </tr>\n",
       "    <tr>\n",
       "      <td>Units</td>\n",
       "      <td>dbar</td>\n",
       "    </tr>\n",
       "    <tr>\n",
       "      <td>Ancillary Variables</td>\n",
       "      <td>pressure,pressure_temp</td>\n",
       "    </tr>\n",
       "    <tr>\n",
       "      <td>Data Product Identifier</td>\n",
       "      <td>PRESWAT_L1</td>\n",
       "    </tr>\n",
       "  </tbody>\n",
       "</table>\n",
       "</div>"
      ],
      "text/plain": [
       "                                                                                                                                                                                                                                                                                                                                                                                           Pressure\n",
       "Long Name                Seawater Pressure                                                                                                                                                                                                                                                                                                                                                         \n",
       "Standard Name            sea_water_pressure                                                                                                                                                                                                                                                                                                                                                        \n",
       "Comment                  Seawater Pressure refers to the pressure exerted on a sensor in situ by the weight of the column of seawater above it. It is calculated by subtracting one standard atmosphere from the absolute pressure at the sensor to remove the weight of the atmosphere on top of the water column. The pressure at a sensor in situ provides a metric of the depth of that sensor.\n",
       "Coordinates              time lat lon pressure                                                                                                                                                                                                                                                                                                                                                     \n",
       "Units                    dbar                                                                                                                                                                                                                                                                                                                                                                      \n",
       "Ancillary Variables      pressure,pressure_temp                                                                                                                                                                                                                                                                                                                                                    \n",
       "Data Product Identifier  PRESWAT_L1                                                                                                                                                                                                                                                                                                                                                                "
      ]
     },
     "execution_count": 12,
     "metadata": {},
     "output_type": "execute_result"
    }
   ],
   "source": [
    "# create a table to view the content.\n",
    "# Put in a dataframe the pressure attributes to look at the content.\n",
    "df = pd.DataFrame()\n",
    "df0 = pd.DataFrame({\n",
    "                    'Long Name':[pressure.long_name],\n",
    "                    'Standard Name': [pressure.standard_name],\n",
    "                    'Comment': [pressure.comment],\n",
    "                    'Coordinates': [pressure.coordinates],                    \n",
    "                    'Units': [pressure.units],\n",
    "#                   'Fill_values': [pressure._FillValue],\n",
    "                    'Ancillary Variables': [pressure.ancillary_variables],\n",
    "                    'Data Product Identifier': [pressure.data_product_identifier]\n",
    "    \n",
    "                    }, index=['Pressure'])\n",
    "\n",
    "df = df.append(df0)\n",
    "pd.set_option('display.max_colwidth', -1)\n",
    "df.T"
   ]
  },
  {
   "cell_type": "markdown",
   "metadata": {},
   "source": [
    "<a id=\"4\"></a>\n",
    "Check for Erroneous Data in the Pressure Array."
   ]
  },
  {
   "cell_type": "code",
   "execution_count": 15,
   "metadata": {},
   "outputs": [],
   "source": [
    "# Reject Nans.\n",
    "# Use function: ~np.isnan()\n",
    "p_nonan = pressure.values[~np.isnan(pressure.values)]\n",
    "\n",
    "# Calculate the number of data point that are Nans.\n",
    "len_nan = len(pressure) - len(p_nonan)\n",
    "\n",
    "# Reject fill values. \n",
    "# Use operand: !=\n",
    "# Use pressure._FillValue: returns the data fill value (-9999, see previous output).\n",
    "##p_nonan_nofv = p_nonan[p_nonan != pressure._FillValue]\n",
    "\n",
    "# Calculate the number of data point that are fill values.\n",
    "##len_nan_fv = len(pressure) - len(p_nonan_nofv)\n",
    "\n",
    "# Reject data outside global ranges.\n",
    "# Use operands:( >= )  & (  <= )\n",
    "# Use pressure global ranges: [0, 6000] dbar\n",
    "##p_nonan_nofv_gr = p_nonan_nofv[(p_nonan_nofv >= 0) & (p_nonan_nofv <= 6000)]\n",
    "\n",
    "# Calculate the number of data point that are outside [0,6000].\n",
    "\n",
    "##len_nan_fv_gr = len(pressure) - len(p_nonan_nofv_gr)\n",
    "\n",
    "# Reject extreme values.\n",
    "# Use operands:( > )  & (  < )\n",
    "# Use extreme values: [-1e7, 1e7]\n",
    "##p_nonan_nofv_gr_ev = p_nonan_nofv_gr[(p_nonan_nofv_gr > -1e7) & (p_nonan_nofv_gr < 1e7)]\n",
    "\n",
    "# Calculate the number of data point that are outside [-1e7, 1e7].\n",
    "##len_nan_fv_gr_ev = len(pressure) - len(p_nonan_nofv_gr_ev)\n",
    "\n",
    "# Reject outliers beyond 3 standard deviations of the mean.\n",
    "# Use standard deviation function: np.nanstd\n",
    "##stdev = np.nanstd(p_nonan_nofv_gr_ev)\n",
    "\n",
    "# Use function to calculate the mean: np.nanmean()\n",
    "##mean_pressure = np.nanmean(p_nonan_nofv_gr_ev)\n",
    "\n",
    "# Use formula: abs(data - np.nanmean(data)) < 3 * stdev \n",
    "##p_nonan_nofv_gr_ev_std = p_nonan_nofv_gr_ev[abs(p_nonan_nofv_gr_ev - mean_pressure) < 3 * stdev]\n",
    "\n",
    "# Calculate the number of data point that are outside 3 standard deviations of the mean\n",
    "##len_nan_fv_gr_ev_std = len(pressure) - len(p_nonan_nofv_gr_ev_std)\n",
    "\n",
    "# Add a note to report on when the pressure array is not valid \n",
    "# Not valid:  all Nans \n",
    "#          or all fill values \n",
    "#          or all values outside of global ranges \n",
    "#          or all values are extreme values.\n",
    "\n",
    "##notes = ['']\n",
    "##if len(pressure) > 0 and len(p_nonan) == 0: # NaNs\n",
    "##    notes.append('Pressure variable all NaNs')\n",
    "##elif len(pressure) > 0 and len(p_nonan) > 0 and len(p_nonan_nofv) == 0: # fill values\n",
    "##    notes.append('Pressure variable all fill values')\n",
    "##elif len(pressure) > 0 and len(p_nonan) > 0 and len(p_nonan_nofv) > 0 and len(p_nonan_nofv_gr) == 0: # outside of global ranges\n",
    "##    notes.append('Pressure variable outside of global ranges')\n",
    "##elif len(pressure) > 0 and len(p_nonan) > 0 and len(p_nonan_nofv) > 0 and len(p_nonan_nofv_gr) == 0  and len(p_nonan_nofv_gr_ev) == 0:\n",
    "##    notes.append('Pressure variable are beyond (+/-)1e7 ')\n",
    "   \n",
    "##print(notes)"
   ]
  },
  {
   "cell_type": "markdown",
   "metadata": {},
   "source": [
    "<a id=\"5\"></a>\n",
    "Calculate the Pressure Datasets Basic Statistics."
   ]
  },
  {
   "cell_type": "code",
   "execution_count": null,
   "metadata": {},
   "outputs": [],
   "source": []
  },
  {
   "cell_type": "markdown",
   "metadata": {},
   "source": [
    "<a id=\"6\"></a>\n",
    "Compare Pressure to the Deployment Depth."
   ]
  },
  {
   "cell_type": "code",
   "execution_count": null,
   "metadata": {},
   "outputs": [],
   "source": []
  },
  {
   "cell_type": "markdown",
   "metadata": {},
   "source": [
    "<a id=\"7\"></a>\n",
    "Calculate the Lon/Lat Difference in km."
   ]
  },
  {
   "cell_type": "code",
   "execution_count": null,
   "metadata": {},
   "outputs": [],
   "source": []
  },
  {
   "cell_type": "markdown",
   "metadata": {},
   "source": [
    "<a id=\"8\"></a>\n",
    "Summarize Results."
   ]
  },
  {
   "cell_type": "code",
   "execution_count": null,
   "metadata": {},
   "outputs": [],
   "source": []
  },
  {
   "cell_type": "markdown",
   "metadata": {},
   "source": [
    "<a id=\"9\"></a>\n",
    "Report on the Sensor Location Review."
   ]
  },
  {
   "cell_type": "code",
   "execution_count": null,
   "metadata": {},
   "outputs": [],
   "source": []
  }
 ],
 "metadata": {
  "kernelspec": {
   "display_name": "Python 3",
   "language": "python",
   "name": "python3"
  },
  "language_info": {
   "codemirror_mode": {
    "name": "ipython",
    "version": 3
   },
   "file_extension": ".py",
   "mimetype": "text/x-python",
   "name": "python",
   "nbconvert_exporter": "python",
   "pygments_lexer": "ipython3",
   "version": "3.7.7"
  }
 },
 "nbformat": 4,
 "nbformat_minor": 2
}
