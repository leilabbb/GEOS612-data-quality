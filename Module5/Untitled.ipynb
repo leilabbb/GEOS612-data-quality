{
 "cells": [
  {
   "cell_type": "code",
   "execution_count": null,
   "metadata": {},
   "outputs": [],
   "source": [
    "# import netCDF4 as nc\n",
    "\n",
    "# import re\n",
    "# import itertools\n",
    "# import time\n",
    "\n",
    "# import datetime as dt\n",
    "# from urllib.request import urlopen\n",
    "\n",
    "# from ast import literal_eval\n",
    "# from datetime import timedelta\n",
    "\n",
    "\n",
    "# import urllib3"
   ]
  },
  {
   "cell_type": "code",
   "execution_count": null,
   "metadata": {},
   "outputs": [],
   "source": [
    "## REMOVE\n",
    "def deploy_depth_check(refdes):\n",
    "    # \n",
    "    # deployment locations\n",
    "    deploy_depth = {}\n",
    "    dr_data = refdes_datareview_json(refdes)\n",
    "    for i, d in enumerate(dr_data['instrument']['deployments']):\n",
    "        deploy_depth[i] = {}\n",
    "        deploy_depth[i]['deployment'] = d['deployment_number']\n",
    "        deploy_depth[i]['d_depth'] = d['deployment_depth']\n",
    "        deploy_depth[i]['water_depth'] = d['water_depth']\n",
    "        \n",
    "\n",
    "    # put info in a data frame\n",
    "    df_depth = pd.DataFrame.from_dict(deploy_depth, orient='index').sort_index()\n",
    "\n",
    "    return df_depth\n",
    "## REMOVE\n",
    "df_depth = deploy_depth_check('GP03FLMB-RIM01-02-CTDMOG060')\n",
    "df_depth"
   ]
  },
  {
   "cell_type": "code",
   "execution_count": null,
   "metadata": {},
   "outputs": [],
   "source": [
    "## REMOVE\n",
    "def sensor_annotation_check(refdes):\n",
    "    # deployment start and end dates \n",
    "    sensor_anno = {}\n",
    "    dr_data = refdes_datareview_json(refdes)\n",
    "    for i, d in enumerate(dr_data['instrument']['annotations']):\n",
    "        sensor_anno[i] = {}\n",
    "        sensor_anno[i]['reference_designator'] = d['reference_designator']\n",
    "        sensor_anno[i]['annotation'] = d['annotation']\n",
    "        sensor_anno[i]['start_datetime'] = d['start_datetime']\n",
    "        sensor_anno[i]['end_datetime'] = d['end_datetime']\n",
    "\n",
    "    # put info in a data frame\n",
    "    df_anno = pd.DataFrame.from_dict(sensor_anno, orient='index').sort_index()\n",
    "    \n",
    "    return df_anno\n",
    "## REMOVE\n",
    "df_anno = sensor_annotation_check('GP03FLMB-RIM01-02-CTDMOG060')\n",
    "pd.set_option('display.max_colwidth', None)\n",
    "df_anno"
   ]
  },
  {
   "cell_type": "code",
   "execution_count": null,
   "metadata": {},
   "outputs": [],
   "source": [
    "## REMOVE\n",
    "def deploy_location_check(refdes):\n",
    "    # Calculate the distance in kilometers between an instrument's location (defined in asset management) and previous\n",
    "    # deployment locations\n",
    "    deploy_loc = {}\n",
    "    dr_data = refdes_datareview_json(refdes)\n",
    "   \n",
    "    for i, d in enumerate(dr_data['instrument']['deployments']):\n",
    "        deploy_loc[i] = {}\n",
    "        deploy_loc[i]['deployment'] = d['deployment_number']\n",
    "        deploy_loc[i]['lat'] = d['latitude']\n",
    "        deploy_loc[i]['lon'] = d['longitude']\n",
    "\n",
    "    # put info in a data frame\n",
    "    df = pd.DataFrame.from_dict(deploy_loc, orient='index').sort_index()\n",
    "    \n",
    "    y = {}\n",
    "    \n",
    "    for i, k in df.iterrows():\n",
    "        if i > 0:\n",
    "            loc1 = [k['lat'], k['lon']]\n",
    "            d1 = int(k['deployment'])\n",
    "            for x in range(i):\n",
    "                info0 = df.iloc[x]\n",
    "                compare = 'diff_km_D{}_to_D{}'.format(d1, int(info0['deployment']))\n",
    "                loc0 = [info0['lat'], info0['lon']]\n",
    "                diff_loc = round(geodesic(loc0, loc1).kilometers, 4)\n",
    "                y.update({compare: diff_loc})\n",
    "    return df, y\n",
    "## REMOVE\n",
    "location, distance = deploy_location_check('GP03FLMB-RIM01-02-CTDMOG060')\n",
    "## REMOVE\n",
    "location"
   ]
  },
  {
   "cell_type": "code",
   "execution_count": null,
   "metadata": {},
   "outputs": [],
   "source": []
  },
  {
   "cell_type": "code",
   "execution_count": null,
   "metadata": {},
   "outputs": [],
   "source": [
    "from datetime import datetime\n",
    "\n",
    "now = datetime.now()\n",
    "\n",
    "current_time = now.strftime(\"%Y-%m-%dT%H:%M:%S\")\n",
    "print(\"Current Time =\", current_time)\n",
    "if dates[-1] is None:\n",
    "    dates[-1] = current_time\n",
    "dates"
   ]
  },
  {
   "cell_type": "code",
   "execution_count": null,
   "metadata": {},
   "outputs": [],
   "source": [
    "ind  = sorted(range(len(dates)),key=dates.__getitem__)\n",
    "date_list = [dates[i].split('+')[0] for i in ind ]\n",
    "deployment_list = [names[i] for i in ind ]\n",
    "date_list, deployment_list"
   ]
  },
  {
   "cell_type": "code",
   "execution_count": null,
   "metadata": {},
   "outputs": [],
   "source": [
    "# Make a histogram\n",
    "for i in range(len(list_recovered)):\n",
    "    d1 = xr.open_dataset(list_recovered['files'][i])\n",
    "    d1 = d1.swap_dims({'obs': 'time'})\n",
    "    d1['ctdmo_seawater_temperature'].plot.hist(bins=100);"
   ]
  },
  {
   "cell_type": "code",
   "execution_count": null,
   "metadata": {},
   "outputs": [],
   "source": [
    " dinfo = {}\n",
    "    if len(rdm_filtered) == 1:\n",
    "        print('Only one delivery method provided - no comparison.')\n",
    "        continue\n",
    "    elif len(rdm_filtered) > 1 & len(rdm_filtered) <= 3:\n",
    "        print('\\nComparing data from different methods for: {}'.format(r))\n",
    "        for i in range(len(rdm_filtered)):\n",
    "            urls = [x for x in url_list if rdm_filtered[i] in x]\n",
    "            for u in urls:\n",
    "                splitter = u.split('/')[-2].split('-')\n",
    "                catalog_rms = '-'.join((r, splitter[-2], splitter[-1]))\n",
    "                udatasets = cf.get_nc_urls([u])\n",
    "                deployments = [str(k.split('/')[-1][0:14]) for k in udatasets]\n",
    "                udeploy = np.unique(deployments).tolist()"
   ]
  },
  {
   "cell_type": "code",
   "execution_count": null,
   "metadata": {},
   "outputs": [],
   "source": [
    "rd_list = []\n",
    "rdm_list = []\n",
    "for uu in url_list:\n",
    "    elements = uu.split('_')[1].split('-')\n",
    "    rd = '-'.join((elements[0], elements[1], elements[2], elements[3]))\n",
    "    rdm = uu.split('-')[4]\n",
    "   \n",
    " \n",
    "    if rd not in rd_list:\n",
    "        rd_list.append(rd)\n",
    "    if rdm not in rdm_list:\n",
    "        rdm_list.append(rdm)\n",
    "print(rd_list, rdm_list)\n",
    "\n",
    "for r in rd_list:\n",
    "    rdm_filtered = [k for k in rdm_list if r in k]\n",
    "    print(r, rdm_filtered)"
   ]
  },
  {
   "cell_type": "code",
   "execution_count": null,
   "metadata": {},
   "outputs": [],
   "source": [
    " dinfo = {}\n",
    "    if len(rdm_filtered) == 1:\n",
    "        print('Only one delivery method provided - no comparison.')\n",
    "        continue\n",
    "    elif len(rdm_filtered) > 1 & len(rdm_filtered) <= 3:\n",
    "        print('\\nComparing data from different methods for: {}'.format(r))\n",
    "        for i in range(len(rdm_filtered)):\n",
    "            urls = [x for x in url_list if rdm_filtered[i] in x]\n",
    "            for u in urls:\n",
    "                splitter = u.split('/')[-2].split('-')\n",
    "                catalog_rms = '-'.join((r, splitter[-2], splitter[-1]))\n",
    "                udatasets = cf.get_nc_urls([u])\n",
    "                deployments = [str(k.split('/')[-1][0:14]) for k in udatasets]\n",
    "                udeploy = np.unique(deployments).tolist()"
   ]
  },
  {
   "cell_type": "markdown",
   "metadata": {},
   "source": [
    "Data Coordinates Function."
   ]
  },
  {
   "cell_type": "code",
   "execution_count": null,
   "metadata": {},
   "outputs": [],
   "source": [
    "def missing_coordinates(datasets):\n",
    "    \"\"\"\n",
    "    Check file coordinates agains the expected coordinates array ['obs', 'time', 'pressure', 'lat', 'lon']\n",
    "    \"\"\"\n",
    "    file_coordinates = [x for x in tuple(datasets.coords.keys())]\n",
    "\n",
    "    missing_coords = [x for x in ['obs', 'time', 'pressure', 'lat', 'lon'] if x not in file_coordinates]\n",
    "    return missing_coords\n"
   ]
  },
  {
   "cell_type": "code",
   "execution_count": null,
   "metadata": {},
   "outputs": [],
   "source": [
    "# check variable coordinates\n",
    "missing_coords = missing_coordinates(ds)"
   ]
  },
  {
   "cell_type": "code",
   "execution_count": null,
   "metadata": {},
   "outputs": [],
   "source": [
    "df0 = pd.DataFrame({'sv': [sv], 'var_units': [units], \n",
    "                    'Missing Coordinates':[(coords, 'missing:',missing_coords)]  \n",
    "                   }, index = [deployment]) \n",
    "df = df.append(df0)\n",
    "\n",
    "pd.set_option('display.max_colwidth', -1)\n",
    "df"
   ]
  },
  {
   "cell_type": "markdown",
   "metadata": {},
   "source": [
    "The missing coordinates in the parameter attributes should be addressed to fix the data integrity and usability with other datasets."
   ]
  },
  {
   "cell_type": "code",
   "execution_count": null,
   "metadata": {},
   "outputs": [],
   "source": []
  }
 ],
 "metadata": {
  "kernelspec": {
   "display_name": "Python 3",
   "language": "python",
   "name": "python3"
  },
  "language_info": {
   "codemirror_mode": {
    "name": "ipython",
    "version": 3
   },
   "file_extension": ".py",
   "mimetype": "text/x-python",
   "name": "python",
   "nbconvert_exporter": "python",
   "pygments_lexer": "ipython3",
   "version": "3.7.7"
  }
 },
 "nbformat": 4,
 "nbformat_minor": 4
}
