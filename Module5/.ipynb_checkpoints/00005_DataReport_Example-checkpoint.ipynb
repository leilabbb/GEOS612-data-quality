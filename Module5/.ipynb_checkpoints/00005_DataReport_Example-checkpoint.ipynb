{
 "cells": [
  {
   "cell_type": "markdown",
   "metadata": {},
   "source": [
    "## Data Quality Report.\n",
    "\n",
    "<blockquote>  </blockquote>\n",
    "\n",
    "<blockquote> </blockquote> \n"
   ]
  },
  {
   "cell_type": "markdown",
   "metadata": {},
   "source": [
    "### Notebook Outline:\n"
   ]
  },
  {
   "cell_type": "markdown",
   "metadata": {},
   "source": [
    "<span style='color:Orange' size=20 > **Attention:** </span> \n",
    "- To run the notebook, you need to follow the septs in order.\n",
    "- For the code cell, run the cell before you move on to the next one. \n",
    "    - **Remember**: The output of a cell may be an input in the next cell."
   ]
  },
  {
   "cell_type": "code",
   "execution_count": 3,
   "metadata": {},
   "outputs": [
    {
     "ename": "ModuleNotFoundError",
     "evalue": "No module named 'matplotlib'",
     "output_type": "error",
     "traceback": [
      "\u001b[0;31m---------------------------------------------------------------------------\u001b[0m",
      "\u001b[0;31mModuleNotFoundError\u001b[0m                       Traceback (most recent call last)",
      "\u001b[0;32m<ipython-input-3-af28391dddf3>\u001b[0m in \u001b[0;36m<module>\u001b[0;34m\u001b[0m\n\u001b[1;32m     17\u001b[0m \u001b[0;32mimport\u001b[0m \u001b[0murllib3\u001b[0m\u001b[0;34m\u001b[0m\u001b[0;34m\u001b[0m\u001b[0m\n\u001b[1;32m     18\u001b[0m \u001b[0;34m\u001b[0m\u001b[0m\n\u001b[0;32m---> 19\u001b[0;31m \u001b[0;32mimport\u001b[0m \u001b[0mmatplotlib\u001b[0m\u001b[0;34m\u001b[0m\u001b[0;34m\u001b[0m\u001b[0m\n\u001b[0m\u001b[1;32m     20\u001b[0m \u001b[0;32mimport\u001b[0m \u001b[0mmatplotlib\u001b[0m\u001b[0;34m.\u001b[0m\u001b[0mdates\u001b[0m \u001b[0;32mas\u001b[0m \u001b[0mmdates\u001b[0m\u001b[0;34m\u001b[0m\u001b[0;34m\u001b[0m\u001b[0m\n\u001b[1;32m     21\u001b[0m \u001b[0;32mimport\u001b[0m \u001b[0mmatplotlib\u001b[0m\u001b[0;34m.\u001b[0m\u001b[0mpyplot\u001b[0m \u001b[0;32mas\u001b[0m \u001b[0mplt\u001b[0m\u001b[0;34m\u001b[0m\u001b[0;34m\u001b[0m\u001b[0m\n",
      "\u001b[0;31mModuleNotFoundError\u001b[0m: No module named 'matplotlib'"
     ]
    }
   ],
   "source": [
    "import os\n",
    "import pandas as pd\n",
    "import netCDF4 as nc\n",
    "import requests\n",
    "import re\n",
    "import itertools\n",
    "import time\n",
    "import xarray as xr\n",
    "import numpy as np\n",
    "import datetime as dt\n",
    "from urllib.request import urlopen\n",
    "import json\n",
    "from ast import literal_eval\n",
    "from datetime import timedelta\n",
    "from datetime import datetime\n",
    "from geopy.distance import geodesic\n",
    "import urllib3\n",
    "\n",
    "import matplotlib\n",
    "import matplotlib.dates as mdates\n",
    "import matplotlib.pyplot as plt\n",
    "import matplotlib.ticker as ticker\n",
    "import seaborn as sns\n",
    "sns.set()\n",
    "\n",
    "from pandas.plotting import register_matplotlib_converters\n",
    "register_matplotlib_converters()"
   ]
  },
  {
   "cell_type": "markdown",
   "metadata": {},
   "source": [
    "### Sensor Deployment Information.\n",
    "The sensor deployment information is obtained from a system database."
   ]
  },
  {
   "cell_type": "code",
   "execution_count": null,
   "metadata": {},
   "outputs": [],
   "source": [
    "def refdes_datareview_json(refdes):\n",
    "    \"\"\"\n",
    "    Returns information about the sensor reference designator from the Data Review Database.\n",
    "    Source URL: http://datareview.marine.rutgers.edu/instruments/view/\n",
    "    \"\"\"\n",
    "    url = 'http://datareview.marine.rutgers.edu/instruments/view/'\n",
    "    ref_des_url = os.path.join(url, refdes)\n",
    "    ref_des_url += '.json'\n",
    "    r = requests.get(ref_des_url).json()\n",
    "    return r"
   ]
  },
  {
   "cell_type": "code",
   "execution_count": null,
   "metadata": {},
   "outputs": [],
   "source": [
    "refdes_datareview_json('GP03FLMB-RIM01-02-CTDMOG060')"
   ]
  },
  {
   "cell_type": "markdown",
   "metadata": {},
   "source": [
    "### Data Annotations."
   ]
  },
  {
   "cell_type": "code",
   "execution_count": null,
   "metadata": {},
   "outputs": [],
   "source": [
    "def sensor_annotation_check(refdes):\n",
    "    # deployment start and end dates \n",
    "    sensor_anno = {}\n",
    "    dr_data = refdes_datareview_json(refdes)\n",
    "    for i, d in enumerate(dr_data['instrument']['annotations']):\n",
    "        sensor_anno[i] = {}\n",
    "        sensor_anno[i]['reference_designator'] = d['reference_designator']\n",
    "        sensor_anno[i]['annotation'] = d['annotation']\n",
    "        sensor_anno[i]['start_datetime'] = d['start_datetime']\n",
    "        sensor_anno[i]['end_datetime'] = d['end_datetime']\n",
    "\n",
    "    # put info in a data frame\n",
    "    df_anno = pd.DataFrame.from_dict(sensor_anno, orient='index').sort_index()\n",
    "    \n",
    "    return df_anno\n"
   ]
  },
  {
   "cell_type": "code",
   "execution_count": null,
   "metadata": {},
   "outputs": [],
   "source": [
    "df_anno = sensor_annotation_check('GP03FLMB-RIM01-02-CTDMOG060')\n",
    "pd.set_option('display.max_colwidth', None)\n",
    "df_anno"
   ]
  },
  {
   "cell_type": "markdown",
   "metadata": {},
   "source": [
    "### Deploy Depth Check"
   ]
  },
  {
   "cell_type": "code",
   "execution_count": null,
   "metadata": {},
   "outputs": [],
   "source": [
    "def deploy_depth_check(refdes):\n",
    "    # \n",
    "    # deployment locations\n",
    "    deploy_depth = {}\n",
    "    dr_data = refdes_datareview_json(refdes)\n",
    "    for i, d in enumerate(dr_data['instrument']['deployments']):\n",
    "        deploy_depth[i] = {}\n",
    "        deploy_depth[i]['deployment'] = d['deployment_number']\n",
    "        deploy_depth[i]['d_depth'] = d['deployment_depth']\n",
    "        deploy_depth[i]['water_depth'] = d['water_depth']\n",
    "        \n",
    "\n",
    "    # put info in a data frame\n",
    "    df_depth = pd.DataFrame.from_dict(deploy_depth, orient='index').sort_index()\n",
    "\n",
    "    return df_depth\n"
   ]
  },
  {
   "cell_type": "code",
   "execution_count": null,
   "metadata": {},
   "outputs": [],
   "source": [
    "df_depth = deploy_depth_check('GP03FLMB-RIM01-02-CTDMOG060')\n",
    "df_depth"
   ]
  },
  {
   "cell_type": "code",
   "execution_count": null,
   "metadata": {},
   "outputs": [],
   "source": [
    "n = 3\n",
    "fig = plt.figure(1)\n",
    "\n",
    "listy = [50, 4000, 4250]\n",
    "visiblex = [False,False,True]\n",
    "\n",
    "# create axis\n",
    "axis_list = []\n",
    "for j in range(n):\n",
    "    axis_list.append(plt.subplot(n,1,j+1))\n",
    "\n",
    "handles =[]\n",
    "labels = []\n",
    "for j,ax in enumerate(axis_list):\n",
    "    \n",
    "    for i in range(len(df_depth['water_depth'])):\n",
    "        x_start = int(df_depth['deployment'][i])\n",
    "        y_end = int(df_depth['water_depth'][i])\n",
    "        if np.isnan(df_depth['d_depth'][i]):\n",
    "            y_start = np.nanmean(df_depth['d_depth'])\n",
    "            texti = '?'\n",
    "        else:\n",
    "            y_start = int(df_depth['d_depth'][i])\n",
    "            texti = ' '\n",
    "\n",
    "        ax.add_patch(matplotlib.patches.Rectangle((x_start,y_start), 0.125, y_end-y_start, ec=\"red\"))\n",
    "        ax.set_xlim((0, 8))\n",
    "        ax.get_yaxis().set_major_locator(ticker.FixedLocator(list(range(7))))\n",
    "        ax.get_xaxis().set_visible(visiblex[j])\n",
    " \n",
    "        if j == 0:\n",
    "            ax.set_ylim((listy[j],0))\n",
    "            ax.text(x_start,y_start-5, texti)\n",
    "            ax.get_yaxis().set_major_locator(ticker.FixedLocator([0,30,50]))\n",
    "            ax.set(title=\"Deployment Depth (Green Circle), \\n Water Depth (Red Square) \\n ?: Unknown Deployment Depth \")\n",
    "            ax.plot(x_start,y_start, 'go-', label='Sensor Depth', linewidth=2)\n",
    "        else:\n",
    "            ax.set_ylim((listy[j],listy[j-1]))\n",
    "        \n",
    "        if j == n-1:            \n",
    "            ax.plot(x_start,y_end, 'rs',  label='Water Depth',linewidth=2 )\n",
    "            ax.get_yaxis().set_major_locator(ticker.FixedLocator([4145,4176]))\n",
    "            \n",
    "plt.subplots_adjust(wspace=0, hspace=0)\n",
    "plt.xlabel('Deployment Number')\n",
    "plt.ylabel('Water Depth')\n",
    "plt.show()"
   ]
  },
  {
   "cell_type": "markdown",
   "metadata": {},
   "source": [
    "### Deploy Location Check."
   ]
  },
  {
   "cell_type": "code",
   "execution_count": null,
   "metadata": {},
   "outputs": [],
   "source": [
    "def deploy_location_check(refdes):\n",
    "    # Calculate the distance in kilometers between an instrument's location (defined in asset management) and previous\n",
    "    # deployment locations\n",
    "    deploy_loc = {}\n",
    "    dr_data = refdes_datareview_json(refdes)\n",
    "    for i, d in enumerate(dr_data['instrument']['deployments']):\n",
    "        deploy_loc[i] = {}\n",
    "        deploy_loc[i]['deployment'] = d['deployment_number']\n",
    "        deploy_loc[i]['lat'] = d['latitude']\n",
    "        deploy_loc[i]['lon'] = d['longitude']\n",
    "\n",
    "    # put info in a data frame\n",
    "    df = pd.DataFrame.from_dict(deploy_loc, orient='index').sort_index()\n",
    "    y = {}\n",
    "    for i, k in df.iterrows():\n",
    "        if i > 0:\n",
    "            loc1 = [k['lat'], k['lon']]\n",
    "            d1 = int(k['deployment'])\n",
    "            for x in range(i):\n",
    "                info0 = df.iloc[x]\n",
    "                compare = 'diff_km_D{}_to_D{}'.format(d1, int(info0['deployment']))\n",
    "                loc0 = [info0['lat'], info0['lon']]\n",
    "                diff_loc = round(geodesic(loc0, loc1).kilometers, 4)\n",
    "                y.update({compare: diff_loc})\n",
    "    return df, y\n"
   ]
  },
  {
   "cell_type": "code",
   "execution_count": null,
   "metadata": {},
   "outputs": [],
   "source": [
    "location, distance = deploy_location_check('GP03FLMB-RIM01-02-CTDMOG060')"
   ]
  },
  {
   "cell_type": "code",
   "execution_count": null,
   "metadata": {},
   "outputs": [],
   "source": [
    "location"
   ]
  },
  {
   "cell_type": "code",
   "execution_count": null,
   "metadata": {},
   "outputs": [],
   "source": [
    "fig, ax = plt.subplots() \n",
    "ax.set_xlim((-10, 10))\n",
    "ax.set_ylim((-10, 10))\n",
    "plt.title('Deployment Distance difference in km. \\n Labeling only distances > 0.5 km')\n",
    "\n",
    "handles =[]\n",
    "labels = []\n",
    "for i in distance:\n",
    "    label = [i+'= '+str(round(distance[i],2))+'km']\n",
    "\n",
    "    if distance[i] <= 0.5:\n",
    "        circle1 = plt.Circle((0, 0), distance[i], color = 'r', fill=False)#, width=0.1)\n",
    "        ax.add_artist(circle1)\n",
    "    else:\n",
    "        circle = plt.Circle((0, 0), distance[i], color = 'b', fill=False)#, width=0.1)\n",
    "        ax.add_artist(circle)\n",
    "        handles.append(circle)\n",
    "        labels.append(label) \n",
    "\n",
    "    ax.legend(handles, labels, bbox_to_anchor=(2, 1))\n",
    "    ax.get_yaxis().set_major_locator(ticker.NullLocator())"
   ]
  },
  {
   "cell_type": "markdown",
   "metadata": {},
   "source": [
    "> **Observation:**\n",
    "Deployment 5 and 7 location is further than 9 km than the rest of the rest of the deployments [1, 2, 3, 4, 6]."
   ]
  },
  {
   "cell_type": "markdown",
   "metadata": {},
   "source": [
    "### Deploy Time Line Check"
   ]
  },
  {
   "cell_type": "code",
   "execution_count": null,
   "metadata": {},
   "outputs": [],
   "source": [
    "def deploy_timeline_check(refdes):\n",
    "    # deployment start and end dates \n",
    "    deploy_time = {}\n",
    "    dr_data = refdes_datareview_json(refdes)\n",
    "    for i, d in enumerate(dr_data['instrument']['deployments']):\n",
    "        deploy_time[i] = {}\n",
    "        deploy_time[i]['deployment'] = d['deployment_number']\n",
    "        deploy_time[i]['start_date'] = d['start_date']\n",
    "        deploy_time[i]['stop_date'] = d['stop_date']\n",
    "\n",
    "    # put info in a data frame\n",
    "    df_time = pd.DataFrame.from_dict(deploy_time, orient='index').sort_index()\n",
    "    \n",
    "    return df_time\n"
   ]
  },
  {
   "cell_type": "code",
   "execution_count": null,
   "metadata": {},
   "outputs": [],
   "source": [
    "df = deploy_timeline_check('GP03FLMB-RIM01-02-CTDMOG060')"
   ]
  },
  {
   "cell_type": "code",
   "execution_count": null,
   "metadata": {},
   "outputs": [],
   "source": [
    "df"
   ]
  },
  {
   "cell_type": "code",
   "execution_count": null,
   "metadata": {},
   "outputs": [],
   "source": [
    "\n",
    "dates=list(df['start_date'].values)+list(df['stop_date'].values)\n",
    "names=list(df['deployment'].values)+list(df['deployment'].values)\n",
    "dates\n"
   ]
  },
  {
   "cell_type": "code",
   "execution_count": null,
   "metadata": {},
   "outputs": [],
   "source": [
    "from datetime import datetime\n",
    "\n",
    "now = datetime.now()\n",
    "\n",
    "current_time = now.strftime(\"%Y-%m-%dT%H:%M:%S\")\n",
    "print(\"Current Time =\", current_time)"
   ]
  },
  {
   "cell_type": "code",
   "execution_count": null,
   "metadata": {},
   "outputs": [],
   "source": [
    "if dates[-1] is None:\n",
    "    dates[-1] = current_time\n",
    "dates"
   ]
  },
  {
   "cell_type": "code",
   "execution_count": null,
   "metadata": {},
   "outputs": [],
   "source": [
    "ind  = sorted(range(len(dates)),key=dates.__getitem__)"
   ]
  },
  {
   "cell_type": "code",
   "execution_count": null,
   "metadata": {},
   "outputs": [],
   "source": [
    "date_list = [dates[i].split('+')[0] for i in ind ]\n",
    "deployment_list = [names[i] for i in ind ]\n",
    "date_list, deployment_list"
   ]
  },
  {
   "cell_type": "code",
   "execution_count": null,
   "metadata": {},
   "outputs": [],
   "source": [
    "# Convert date strings (e.g. 2014-10-182016-07-03T18:35:00) to datetime\n",
    "date_list = [datetime.strptime(d, \"%Y-%m-%dT%H:%M:%S\") for d in date_list]\n",
    "date_list"
   ]
  },
  {
   "cell_type": "code",
   "execution_count": null,
   "metadata": {},
   "outputs": [],
   "source": [
    "# Choose some nice levels\n",
    "levels = np.tile([-5, 5, -3, 3, -1, 1],\n",
    "                 int(np.ceil(len(date_list)/6)))[:len(date_list)]\n",
    "levels"
   ]
  },
  {
   "cell_type": "code",
   "execution_count": null,
   "metadata": {},
   "outputs": [],
   "source": [
    "# Create figure and plot a stem plot with the date\n",
    "fig, ax = plt.subplots(figsize=(8.8, 4), constrained_layout=True)\n",
    "ax.set(title=\"Deployment Timeline\")\n",
    "\n",
    "markerline, stemline, baseline = ax.stem(date_list, levels,\n",
    "                                         linefmt=\"C3-\", basefmt=\"k-\",\n",
    "                                         use_line_collection=True)\n",
    "\n",
    "plt.setp(markerline, mec=\"k\", mfc=\"w\", zorder=3)\n",
    "\n",
    "# Shift the markers to the baseline by replacing the y-data by zeros.\n",
    "markerline.set_ydata(np.zeros(len(date_list)))\n",
    "\n",
    "# annotate lines\n",
    "vert = np.array(['top', 'bottom'])[(levels > 0).astype(int)]\n",
    "for d, l, r, va in zip(date_list, levels, deployment_list, vert):\n",
    "    ax.annotate(r, xy=(d, l), xytext=(-3, np.sign(l)*3),\n",
    "                textcoords=\"offset points\", va=va, ha=\"right\")\n",
    "    \n",
    "# format xaxis with 4 month intervals\n",
    "ax.get_xaxis().set_major_locator(mdates.MonthLocator(interval=4))\n",
    "ax.get_xaxis().set_major_formatter(mdates.DateFormatter(\"%b %Y\"))\n",
    "plt.setp(ax.get_xticklabels(), rotation=30, ha=\"right\") \n",
    "\n",
    "# remove y axis and spines\n",
    "ax.get_yaxis().set_visible(False)\n",
    "for spine in [\"left\", \"top\", \"right\"]:\n",
    "    ax.spines[spine].set_visible(False)\n",
    "\n",
    "ax.margins(y=0.1)\n",
    "plt.show()"
   ]
  },
  {
   "cell_type": "markdown",
   "metadata": {},
   "source": [
    "### Plot Timeseries Data\n",
    "- load data files\n",
    "- prepare figure\n",
    "- combine with deployment information"
   ]
  },
  {
   "cell_type": "code",
   "execution_count": null,
   "metadata": {},
   "outputs": [],
   "source": [
    "%cd '/Users/leilabelabassi/Desktop/TAMU/online-class/612-DataQuality4theGeosciences/class_material/Module4_csvFiles/'\n",
    "file_recovered = 'data_review_list_GP03FLMB-RIM01-02-CTDMOG060_recovered.csv'\n",
    "file_telemetered = 'data_review_list_GP03FLMB-RIM01-02-CTDMOG060_telemetered.csv'\n",
    "list_recovered = pd.read_csv(file_recovered)\n",
    "list_telemetered = pd.read_csv(file_telemetered)\n",
    "list_recovered"
   ]
  },
  {
   "cell_type": "code",
   "execution_count": null,
   "metadata": {},
   "outputs": [],
   "source": [
    "url_list=list(list_recovered['files'].values)+list(list_telemetered['files'].values)\n",
    "url_list"
   ]
  },
  {
   "cell_type": "code",
   "execution_count": null,
   "metadata": {},
   "outputs": [],
   "source": [
    "# Load the data files\n",
    "d1 = xr.open_dataset(url_list[0])\n",
    "\n",
    "# By default, OOI datasets use the 'obs' variable as the index, but time is more convenient\n",
    "d1 = d1.swap_dims({'obs': 'time'})\n",
    "\n",
    "d2 = xr.open_dataset(url_list[1])\n",
    "d2 = d2.swap_dims({'obs': 'time'})"
   ]
  },
  {
   "cell_type": "code",
   "execution_count": null,
   "metadata": {},
   "outputs": [],
   "source": [
    "# Exporting data\n",
    "# Convert the xarray Dataset to a pandas DataFrame\n",
    "d1 = d1.to_dataframe()\n",
    "\n",
    "# Create a CSV file with the raw dataset\n",
    "d1.to_csv('output.csv')\n",
    "\n",
    "# If we have a large file, you can compress it using:\n",
    "# !gzip output.csv"
   ]
  },
  {
   "cell_type": "code",
   "execution_count": null,
   "metadata": {},
   "outputs": [],
   "source": [
    "\n",
    "# Quick plots\n",
    "# Choose some nice levels\n",
    "levels = np.tile([-3, 3, -2, 2, -1, 1],\n",
    "                 int(np.ceil(len(date_list)/6)))[:len(date_list)]\n",
    "\n",
    "fig, ax = plt.subplots(figsize=(8.8, 4), constrained_layout=True)\n",
    "\n",
    "markerline, stemline, baseline = ax.stem(date_list, levels,\n",
    "                                         linefmt=\"C3-\", basefmt=\"k-\",\n",
    "                                         use_line_collection=True)\n",
    "plt.setp(markerline, mec=\"k\", mfc=\"w\", zorder=3)\n",
    "\n",
    "# Shift the markers to the baseline by replacing the y-data by zeros.\n",
    "markerline.set_ydata(np.zeros(len(date_list)))\n",
    "\n",
    "# annotate lines\n",
    "vert = np.array(['top', 'bottom'])[(levels > 0).astype(int)]\n",
    "for d, l, r, va in zip(date_list, levels, deployment_list, vert):\n",
    "    ax.annotate(r, xy=(d, l), xytext=(-3, np.sign(l)*3),\n",
    "                textcoords=\"offset points\", va=va, ha=\"right\")\n",
    "    \n",
    "for i in range(len(list_recovered)):\n",
    "    d1 = xr.open_dataset(list_recovered['files'][i])\n",
    "    d1 = d1.swap_dims({'obs': 'time'})\n",
    "    d1['ctdmo_seawater_temperature'].plot()\n",
    "    "
   ]
  },
  {
   "cell_type": "code",
   "execution_count": null,
   "metadata": {},
   "outputs": [],
   "source": [
    "# Make a histogram\n",
    "for i in range(len(list_recovered)):\n",
    "    d1 = xr.open_dataset(list_recovered['files'][i])\n",
    "    d1 = d1.swap_dims({'obs': 'time'})\n",
    "    d1['ctdmo_seawater_temperature'].plot.hist(bins=100);"
   ]
  },
  {
   "cell_type": "code",
   "execution_count": null,
   "metadata": {},
   "outputs": [],
   "source": [
    "# plot multiple variables at once\n",
    "\n",
    "fig, (ax1,ax2,ax3,ax4) = plt.subplots(4,1, sharex=True, figsize=(14,9))\n",
    "for i in range(len(list_recovered)):\n",
    "    d1 = xr.open_dataset(list_recovered['files'][i])\n",
    "    d1 = d1.swap_dims({'obs': 'time'})\n",
    "    \n",
    "    d1['ctdmo_seawater_temperature'].plot(ax=ax1)\n",
    "    d1['practical_salinity'].plot(ax=ax2)\n",
    "    d1['density'].plot(ax=ax3)\n",
    "    d1['ctdmo_seawater_pressure'].plot(ax=ax4);"
   ]
  },
  {
   "cell_type": "code",
   "execution_count": null,
   "metadata": {},
   "outputs": [],
   "source": [
    "fig, (ax1,ax2,ax3,ax4, ax5) = plt.subplots(5,1, sharex=True, figsize=(14,9))\n",
    "for i in range(len(list_recovered)):\n",
    "    d1 = xr.open_dataset(list_recovered['files'][i])\n",
    "    d1 = d1.swap_dims({'obs': 'time'})\n",
    "    d1['ctdmo_seawater_temperature'].plot(ax=ax1,linestyle='None',marker='.',markersize=1)\n",
    "    d1['practical_salinity'].plot(ax=ax2,linestyle='None',marker='.',markersize=1)\n",
    "    d1['ctdmo_seawater_conductivity'].plot(ax=ax4,linestyle='None',marker='.',markersize=1);\n",
    "    d1['ctdmo_seawater_pressure'].plot(ax=ax5,linestyle='None',marker='.',markersize=1);\n",
    "    d1['density'].plot(ax=ax3,linestyle='None',marker='.',markersize=1);\n",
    "# Let's change the salinity y-limits to account for outliners\n",
    "#ax2.set_ylim(30,35);"
   ]
  },
  {
   "cell_type": "code",
   "execution_count": null,
   "metadata": {},
   "outputs": [],
   "source": [
    "rd_list = []\n",
    "rdm_list = []\n",
    "for uu in url_list:\n",
    "    elements = uu.split('_')[1].split('-')\n",
    "    rd = '-'.join((elements[0], elements[1], elements[2], elements[3]))\n",
    "    rdm = uu.split('-')[4]\n",
    "   \n",
    " \n",
    "    if rd not in rd_list:\n",
    "        rd_list.append(rd)\n",
    "    if rdm not in rdm_list:\n",
    "        rdm_list.append(rdm)\n",
    "print(rd_list, rdm_list)\n",
    "\n",
    "for r in rd_list:\n",
    "    rdm_filtered = [k for k in rdm_list if r in k]\n",
    "    print(r, rdm_filtered)"
   ]
  },
  {
   "cell_type": "code",
   "execution_count": null,
   "metadata": {},
   "outputs": [],
   "source": [
    "    dinfo = {}\n",
    "    if len(rdm_filtered) == 1:\n",
    "        print('Only one delivery method provided - no comparison.')\n",
    "        continue\n",
    "    elif len(rdm_filtered) > 1 & len(rdm_filtered) <= 3:\n",
    "        print('\\nComparing data from different methods for: {}'.format(r))\n",
    "        for i in range(len(rdm_filtered)):\n",
    "            urls = [x for x in url_list if rdm_filtered[i] in x]\n",
    "            for u in urls:\n",
    "                splitter = u.split('/')[-2].split('-')\n",
    "                catalog_rms = '-'.join((r, splitter[-2], splitter[-1]))\n",
    "                udatasets = cf.get_nc_urls([u])\n",
    "                deployments = [str(k.split('/')[-1][0:14]) for k in udatasets]\n",
    "                udeploy = np.unique(deployments).tolist()"
   ]
  },
  {
   "cell_type": "code",
   "execution_count": null,
   "metadata": {},
   "outputs": [],
   "source": []
  },
  {
   "cell_type": "markdown",
   "metadata": {},
   "source": [
    "<a id=7 ></a>\n",
    "### Data Coordinates Function."
   ]
  },
  {
   "cell_type": "code",
   "execution_count": null,
   "metadata": {},
   "outputs": [],
   "source": [
    "def missing_coordinates(datasets):\n",
    "    \"\"\"\n",
    "    Check file coordinates agains the expected coordinates array ['obs', 'time', 'pressure', 'lat', 'lon']\n",
    "    \"\"\"\n",
    "    file_coordinates = [x for x in tuple(datasets.coords.keys())]\n",
    "\n",
    "    missing_coords = [x for x in ['obs', 'time', 'pressure', 'lat', 'lon'] if x not in file_coordinates]\n",
    "    return missing_coords\n"
   ]
  },
  {
   "cell_type": "code",
   "execution_count": null,
   "metadata": {
    "scrolled": true
   },
   "outputs": [],
   "source": [
    " # check variable coordinates\n",
    "missing_coords = missing_coordinates(ds)"
   ]
  },
  {
   "cell_type": "code",
   "execution_count": null,
   "metadata": {},
   "outputs": [],
   "source": [
    "df0 = pd.DataFrame({'sv': [sv], 'var_units': [units], \n",
    "                    'Missing Coordinates':[(coords, 'missing:',missing_coords)]  \n",
    "                   }, index = [deployment]) \n",
    "df = df.append(df0)\n",
    "\n",
    "pd.set_option('display.max_colwidth', -1)\n",
    "df"
   ]
  },
  {
   "cell_type": "code",
   "execution_count": null,
   "metadata": {},
   "outputs": [],
   "source": []
  },
  {
   "cell_type": "markdown",
   "metadata": {},
   "source": [
    "- The missing coordinates in the parameter attributes should be addressed to fix the data integrity and usability with other datasets.  "
   ]
  },
  {
   "cell_type": "code",
   "execution_count": null,
   "metadata": {},
   "outputs": [],
   "source": []
  },
  {
   "cell_type": "code",
   "execution_count": null,
   "metadata": {},
   "outputs": [],
   "source": []
  }
 ],
 "metadata": {
  "kernelspec": {
   "display_name": "Python 3",
   "language": "python",
   "name": "python3"
  },
  "language_info": {
   "codemirror_mode": {
    "name": "ipython",
    "version": 3
   },
   "file_extension": ".py",
   "mimetype": "text/x-python",
   "name": "python",
   "nbconvert_exporter": "python",
   "pygments_lexer": "ipython3",
   "version": "3.7.4"
  }
 },
 "nbformat": 4,
 "nbformat_minor": 2
}
