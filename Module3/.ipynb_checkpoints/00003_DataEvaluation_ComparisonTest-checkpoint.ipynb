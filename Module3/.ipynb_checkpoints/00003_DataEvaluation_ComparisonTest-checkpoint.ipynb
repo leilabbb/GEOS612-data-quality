{
 "cells": [
  {
   "attachments": {},
   "cell_type": "markdown",
   "metadata": {},
   "source": [
    "### Data Evaluation - Datasets Comparison\n",
    "\n",
    "\n",
    "- Missing Data\n",
    "\n",
    "\n",
    "Missing Data\tTest fails if data are available in another stream from a \"non-preferred\" delivery method, where the same data are not available in the preferred data stream. Summary provides the number of gaps and days of data that are missing in the preferred dataset that should be available.\n",
    "\n",
    "\n",
    "\n",
    "- Data Comparison\n",
    "Data Comparison\tCompare data values with matching timestamps for science variables among all delivery methods.\n",
    "\n",
    "\n",
    "- Duplicate Data"
   ]
  },
  {
   "cell_type": "code",
   "execution_count": null,
   "metadata": {},
   "outputs": [],
   "source": []
  }
 ],
 "metadata": {
  "kernelspec": {
   "display_name": "Python 3",
   "language": "python",
   "name": "python3"
  },
  "language_info": {
   "codemirror_mode": {
    "name": "ipython",
    "version": 3
   },
   "file_extension": ".py",
   "mimetype": "text/x-python",
   "name": "python",
   "nbconvert_exporter": "python",
   "pygments_lexer": "ipython3",
   "version": "3.7.4"
  }
 },
 "nbformat": 4,
 "nbformat_minor": 2
}
