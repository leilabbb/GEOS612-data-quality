{
 "cells": [
  {
   "cell_type": "markdown",
   "metadata": {},
   "source": [
    "## Data Evaluation - Datasets Comparison\n",
    "\n",
    "- Missing Data\n",
    "- Duplicate Data\n",
    "- Data Comparison"
   ]
  },
  {
   "cell_type": "markdown",
   "metadata": {},
   "source": [
    "### Python Packages."
   ]
  },
  {
   "cell_type": "code",
   "execution_count": 2,
   "metadata": {},
   "outputs": [],
   "source": [
    "import xarray as xr\n",
    "import pandas as pd\n",
    "# import numpy as np\n",
    "# import datetime as dt\n",
    "# import netCDF4 as nc\n",
    "# from datetime import timedelta"
   ]
  },
  {
   "cell_type": "markdown",
   "metadata": {},
   "source": [
    "### Data Files."
   ]
  },
  {
   "cell_type": "code",
   "execution_count": 10,
   "metadata": {},
   "outputs": [
    {
     "name": "stdout",
     "output_type": "stream",
     "text": [
      "/Users/leilabelabassi/Desktop/TAMU/online-class/612-DataQuality4theGeosciences/NetCDF-Files\n"
     ]
    }
   ],
   "source": [
    "# This is how you change your directory to where your data file is stored:\n",
    "%cd '/Users/leilabelabassi/Desktop/TAMU/online-class/612-DataQuality4theGeosciences/NetCDF-Files/'\n",
    "\n",
    "filename = 'deployment0004_GP03FLMB-RIM01-02-CTDMOG060-telemetered-\\\n",
    "ctdmo_ghqr_sio_mule_instrument_20161008T080001-20161030T120001.nc'\n",
    "\n",
    "# Load data\n",
    "file_content = xr.open_dataset(filename,mask_and_scale=False) \n",
    "file_content = file_content.swap_dims({'obs': 'time'})\n"
   ]
  },
  {
   "cell_type": "markdown",
   "metadata": {},
   "source": [
    "### Pressure Array."
   ]
  },
  {
   "cell_type": "code",
   "execution_count": 50,
   "metadata": {},
   "outputs": [
    {
     "data": {
      "text/plain": [
       "['pressure',\n",
       " 'ctdmo_seawater_pressure',\n",
       " 'ctdmo_seawater_pressure_qc_executed',\n",
       " 'ctdmo_seawater_pressure_qc_results']"
      ]
     },
     "execution_count": 50,
     "metadata": {},
     "output_type": "execute_result"
    }
   ],
   "source": [
    "pressure_name = [x for x in tuple(file_content.variables.keys()) if 'pressure' in x]\n",
    "pressure_name"
   ]
  },
  {
   "cell_type": "code",
   "execution_count": 55,
   "metadata": {},
   "outputs": [
    {
     "name": "stdout",
     "output_type": "stream",
     "text": [
      "ctdmo_seawater_pressure\n",
      "no unit attributes\n",
      "no unit attributes\n"
     ]
    }
   ],
   "source": [
    "for x in pressure_name:\n",
    "    try: \n",
    "        x_unit = file_content[x].attrs['units']\n",
    "        if x_unit == 'dbar': \n",
    "            pressure_parameter = x\n",
    "            print(pressure_parameter)\n",
    "    except KeyError:\n",
    "        print('no unit attributes')"
   ]
  },
  {
   "cell_type": "code",
   "execution_count": null,
   "metadata": {},
   "outputs": [],
   "source": [
    "def calculate_mean_pressure(press, ds, refdes, deploy_depth):\n",
    "    \"\"\"\n",
    "    Calculate mean pressure from data, excluding outliers +/- 3 SD\n",
    "    \"\"\"\n",
    "    notes = []\n",
    "    subsite = refdes.split('-')[1]\n",
    "    node = refdes.split('-')[1]\n",
    "\n",
    "    try:\n",
    "        pressure = ds[press]\n",
    "        num_dims = len(pressure.dims)\n",
    "        if len(pressure) > 1:\n",
    "            # reject NaNs\n",
    "            p_nonan = pressure.values[~np.isnan(pressure.values)]\n",
    "\n",
    "            # reject fill values\n",
    "            p_nonan_nofv = p_nonan[p_nonan != pressure._FillValue]\n",
    "\n",
    "            # reject data outside of global ranges\n",
    "            try:\n",
    "                [pg_min, pg_max] = get_global_ranges(refdes, press)\n",
    "                if pg_min is not None and pg_max is not None:\n",
    "                        pgr_ind = reject_global_ranges(p_nonan_nofv, pg_min, pg_max)\n",
    "                        p_nonan_nofv_gr = p_nonan_nofv[pgr_ind]\n",
    "                else:\n",
    "                    p_nonan_nofv_gr = p_nonan_nofv\n",
    "            except Exception: \n",
    "                    print('uFrame is not responding to request for global ranges. Try again later.')\n",
    "                    p_nonan_nofv_gr = p_nonan_nofv\n",
    "\n",
    "            if (len(p_nonan_nofv_gr) > 0) and (num_dims == 1):\n",
    "                [press_outliers, pressure_mean, _, pressure_max, _, _] = variable_statistics(p_nonan_nofv_gr, 3)\n",
    "                pressure_mean = round(pressure_mean, 2)\n",
    "                pressure_max = round(pressure_max, 2)\n",
    "            elif (len(p_nonan_nofv_gr) > 0) and (num_dims > 1):\n",
    "                print('variable has more than 1 dimension')\n",
    "                press_outliers = 'not calculated: variable has more than 1 dimension'\n",
    "                pressure_mean = round(np.nanmean(p_nonan_nofv_gr), 2)\n",
    "                pressure_max = round(np.nanmax(p_nonan_nofv_gr), 2)\n",
    "            else:\n",
    "                press_outliers = None\n",
    "                pressure_mean = None\n",
    "                pressure_max = None\n",
    "                if len(pressure) > 0 and len(p_nonan) == 0:\n",
    "                    notes.append('Pressure variable all NaNs')\n",
    "                elif len(pressure) > 0 and len(p_nonan) > 0 and len(p_nonan_nofv) == 0:\n",
    "                    notes.append('Pressure variable all fill values')\n",
    "                elif len(pressure) > 0 and len(p_nonan) > 0 and len(p_nonan_nofv) > 0 and len(p_nonan_nofv_gr) == 0:\n",
    "                    notes.append('Pressure variable outside of global ranges')\n",
    "\n",
    "        else:  # if there is only 1 data point\n",
    "            press_outliers = 0\n",
    "            pressure_mean = round(ds[press].values.tolist()[0], 2)\n",
    "            pressure_max = round(ds[press].values.tolist()[0], 2)\n",
    "\n",
    "        try:\n",
    "            pressure_units = pressure.units\n",
    "        except AttributeError:\n",
    "            pressure_units = 'no units attribute for pressure'\n",
    "\n",
    "        if pressure_mean:\n",
    "            node = refdes.split('-')[1]\n",
    "            if ('WFP' in node) or ('MOAS' in subsite):\n",
    "                pressure_compare = int(round(pressure_max))\n",
    "            else:\n",
    "                pressure_compare = int(round(pressure_mean))\n",
    "\n",
    "            if pressure_units == '0.001 dbar':\n",
    "                pressure_max = round((pressure_max / 1000), 2)\n",
    "                pressure_mean = round((pressure_mean / 1000), 2)\n",
    "                notes.append('Pressure converted from 0.001 dbar to dbar for pressure comparison')\n",
    "        else:\n",
    "            pressure_compare = None\n",
    "\n",
    "        if (not deploy_depth) or (not pressure_mean):\n",
    "            pressure_diff = None\n",
    "        else:\n",
    "            pressure_diff = pressure_compare - deploy_depth\n",
    "\n",
    "    except KeyError:\n",
    "        press = 'no seawater pressure in file'\n",
    "        pressure_diff = None\n",
    "        pressure_mean = None\n",
    "        pressure_max = None\n",
    "        pressure_compare = None\n",
    "        press_outliers = None\n",
    "        pressure_units = None\n",
    "        \n",
    "    return pressure_compare, pressure_max, pressure_mean"
   ]
  }
 ],
 "metadata": {
  "kernelspec": {
   "display_name": "Python 3",
   "language": "python",
   "name": "python3"
  },
  "language_info": {
   "codemirror_mode": {
    "name": "ipython",
    "version": 3
   },
   "file_extension": ".py",
   "mimetype": "text/x-python",
   "name": "python",
   "nbconvert_exporter": "python",
   "pygments_lexer": "ipython3",
   "version": "3.7.4"
  }
 },
 "nbformat": 4,
 "nbformat_minor": 2
}
